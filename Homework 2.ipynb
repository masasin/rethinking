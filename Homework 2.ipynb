{
 "cells": [
  {
   "cell_type": "code",
   "execution_count": 1,
   "metadata": {},
   "outputs": [
    {
     "name": "stderr",
     "output_type": "stream",
     "text": [
      "WARNING (theano.tensor.blas): Using NumPy C-API based implementation for BLAS functions.\n"
     ]
    }
   ],
   "source": [
    "%matplotlib widget\n",
    "import arviz as az\n",
    "import matplotlib as mpl\n",
    "import matplotlib.pyplot as plt\n",
    "import missingno as mno\n",
    "import numpy as np\n",
    "import pandas as pd\n",
    "import pymc3 as pm\n",
    "import scipy.stats as stats\n",
    "import seaborn as sns\n",
    "from IPython.display import display\n",
    "from patsy import dmatrix\n",
    "\n",
    "# az.style.use(\"arviz-darkgrid\")\n",
    "sns.set_theme()\n",
    "az.rcParams[\"stats.hdi_prob\"] = 0.89"
   ]
  },
  {
   "cell_type": "code",
   "execution_count": 2,
   "metadata": {},
   "outputs": [],
   "source": [
    "def standardize(array, reference=None, use_std=True):\n",
    "    if reference is None:\n",
    "        reference = array\n",
    "    return (array - reference.mean()) / (reference.std() if use_std else 1)"
   ]
  },
  {
   "cell_type": "code",
   "execution_count": 3,
   "metadata": {},
   "outputs": [
    {
     "data": {
      "text/html": [
       "<div>\n",
       "<style scoped>\n",
       "    .dataframe tbody tr th:only-of-type {\n",
       "        vertical-align: middle;\n",
       "    }\n",
       "\n",
       "    .dataframe tbody tr th {\n",
       "        vertical-align: top;\n",
       "    }\n",
       "\n",
       "    .dataframe thead th {\n",
       "        text-align: right;\n",
       "    }\n",
       "</style>\n",
       "<table border=\"1\" class=\"dataframe\">\n",
       "  <thead>\n",
       "    <tr style=\"text-align: right;\">\n",
       "      <th></th>\n",
       "      <th>height</th>\n",
       "      <th>weight</th>\n",
       "      <th>age</th>\n",
       "      <th>male</th>\n",
       "    </tr>\n",
       "  </thead>\n",
       "  <tbody>\n",
       "    <tr>\n",
       "      <th>0</th>\n",
       "      <td>151.765</td>\n",
       "      <td>47.825606</td>\n",
       "      <td>63.0</td>\n",
       "      <td>1</td>\n",
       "    </tr>\n",
       "    <tr>\n",
       "      <th>1</th>\n",
       "      <td>139.700</td>\n",
       "      <td>36.485807</td>\n",
       "      <td>63.0</td>\n",
       "      <td>0</td>\n",
       "    </tr>\n",
       "    <tr>\n",
       "      <th>2</th>\n",
       "      <td>136.525</td>\n",
       "      <td>31.864838</td>\n",
       "      <td>65.0</td>\n",
       "      <td>0</td>\n",
       "    </tr>\n",
       "    <tr>\n",
       "      <th>3</th>\n",
       "      <td>156.845</td>\n",
       "      <td>53.041915</td>\n",
       "      <td>41.0</td>\n",
       "      <td>1</td>\n",
       "    </tr>\n",
       "    <tr>\n",
       "      <th>4</th>\n",
       "      <td>145.415</td>\n",
       "      <td>41.276872</td>\n",
       "      <td>51.0</td>\n",
       "      <td>0</td>\n",
       "    </tr>\n",
       "  </tbody>\n",
       "</table>\n",
       "</div>"
      ],
      "text/plain": [
       "    height     weight   age  male\n",
       "0  151.765  47.825606  63.0     1\n",
       "1  139.700  36.485807  63.0     0\n",
       "2  136.525  31.864838  65.0     0\n",
       "3  156.845  53.041915  41.0     1\n",
       "4  145.415  41.276872  51.0     0"
      ]
     },
     "execution_count": 3,
     "metadata": {},
     "output_type": "execute_result"
    }
   ],
   "source": [
    "kung = pd.read_csv(\"data/Howell1.csv\", sep=\";\")\n",
    "kung.head()"
   ]
  },
  {
   "cell_type": "code",
   "execution_count": 4,
   "metadata": {},
   "outputs": [
    {
     "data": {
      "application/vnd.jupyter.widget-view+json": {
       "model_id": "5ae3959fb7614ff8addffbe8182a0a28",
       "version_major": 2,
       "version_minor": 0
      },
      "text/plain": [
       "Canvas(toolbar=Toolbar(toolitems=[('Home', 'Reset original view', 'home', 'home'), ('Back', 'Back to previous …"
      ]
     },
     "metadata": {},
     "output_type": "display_data"
    },
    {
     "name": "stderr",
     "output_type": "stream",
     "text": [
      "*c* argument looks like a single numeric RGB or RGBA sequence, which should be avoided as value-mapping will have precedence in case its length matches with *x* & *y*.  Please use the *color* keyword-argument or provide a 2-D array with a single row if you intend to specify the same RGB or RGBA value for all points.\n"
     ]
    },
    {
     "data": {
      "text/plain": [
       "<AxesSubplot:xlabel='weight', ylabel='height'>"
      ]
     },
     "execution_count": 4,
     "metadata": {},
     "output_type": "execute_result"
    }
   ],
   "source": [
    "kung.plot(\"weight\", \"height\", kind=\"scatter\")"
   ]
  },
  {
   "cell_type": "code",
   "execution_count": 5,
   "metadata": {},
   "outputs": [
    {
     "data": {
      "text/html": [
       "<div>\n",
       "<style scoped>\n",
       "    .dataframe tbody tr th:only-of-type {\n",
       "        vertical-align: middle;\n",
       "    }\n",
       "\n",
       "    .dataframe tbody tr th {\n",
       "        vertical-align: top;\n",
       "    }\n",
       "\n",
       "    .dataframe thead th {\n",
       "        text-align: right;\n",
       "    }\n",
       "</style>\n",
       "<table border=\"1\" class=\"dataframe\">\n",
       "  <thead>\n",
       "    <tr style=\"text-align: right;\">\n",
       "      <th></th>\n",
       "      <th>weight</th>\n",
       "      <th>height</th>\n",
       "      <th>age</th>\n",
       "    </tr>\n",
       "  </thead>\n",
       "  <tbody>\n",
       "    <tr>\n",
       "      <th>80</th>\n",
       "      <td>41.900561</td>\n",
       "      <td>147.955</td>\n",
       "      <td>17.0</td>\n",
       "    </tr>\n",
       "    <tr>\n",
       "      <th>108</th>\n",
       "      <td>32.460178</td>\n",
       "      <td>148.590</td>\n",
       "      <td>16.0</td>\n",
       "    </tr>\n",
       "    <tr>\n",
       "      <th>143</th>\n",
       "      <td>38.130078</td>\n",
       "      <td>149.225</td>\n",
       "      <td>17.0</td>\n",
       "    </tr>\n",
       "    <tr>\n",
       "      <th>185</th>\n",
       "      <td>32.205032</td>\n",
       "      <td>142.875</td>\n",
       "      <td>17.0</td>\n",
       "    </tr>\n",
       "    <tr>\n",
       "      <th>219</th>\n",
       "      <td>44.735511</td>\n",
       "      <td>147.955</td>\n",
       "      <td>16.0</td>\n",
       "    </tr>\n",
       "    <tr>\n",
       "      <th>239</th>\n",
       "      <td>40.766581</td>\n",
       "      <td>153.670</td>\n",
       "      <td>16.0</td>\n",
       "    </tr>\n",
       "    <tr>\n",
       "      <th>256</th>\n",
       "      <td>43.091240</td>\n",
       "      <td>158.115</td>\n",
       "      <td>17.0</td>\n",
       "    </tr>\n",
       "    <tr>\n",
       "      <th>270</th>\n",
       "      <td>35.493574</td>\n",
       "      <td>145.415</td>\n",
       "      <td>15.0</td>\n",
       "    </tr>\n",
       "    <tr>\n",
       "      <th>289</th>\n",
       "      <td>33.792604</td>\n",
       "      <td>147.955</td>\n",
       "      <td>17.0</td>\n",
       "    </tr>\n",
       "    <tr>\n",
       "      <th>297</th>\n",
       "      <td>34.841535</td>\n",
       "      <td>143.510</td>\n",
       "      <td>16.0</td>\n",
       "    </tr>\n",
       "    <tr>\n",
       "      <th>301</th>\n",
       "      <td>41.276872</td>\n",
       "      <td>147.955</td>\n",
       "      <td>17.0</td>\n",
       "    </tr>\n",
       "    <tr>\n",
       "      <th>317</th>\n",
       "      <td>40.312989</td>\n",
       "      <td>147.320</td>\n",
       "      <td>16.0</td>\n",
       "    </tr>\n",
       "    <tr>\n",
       "      <th>404</th>\n",
       "      <td>37.903281</td>\n",
       "      <td>146.050</td>\n",
       "      <td>16.0</td>\n",
       "    </tr>\n",
       "    <tr>\n",
       "      <th>434</th>\n",
       "      <td>39.179009</td>\n",
       "      <td>154.940</td>\n",
       "      <td>16.0</td>\n",
       "    </tr>\n",
       "    <tr>\n",
       "      <th>458</th>\n",
       "      <td>32.488527</td>\n",
       "      <td>147.955</td>\n",
       "      <td>12.0</td>\n",
       "    </tr>\n",
       "    <tr>\n",
       "      <th>465</th>\n",
       "      <td>41.305222</td>\n",
       "      <td>157.480</td>\n",
       "      <td>17.0</td>\n",
       "    </tr>\n",
       "    <tr>\n",
       "      <th>494</th>\n",
       "      <td>34.246196</td>\n",
       "      <td>145.415</td>\n",
       "      <td>14.0</td>\n",
       "    </tr>\n",
       "    <tr>\n",
       "      <th>496</th>\n",
       "      <td>32.545226</td>\n",
       "      <td>144.780</td>\n",
       "      <td>15.0</td>\n",
       "    </tr>\n",
       "    <tr>\n",
       "      <th>539</th>\n",
       "      <td>31.127751</td>\n",
       "      <td>145.415</td>\n",
       "      <td>17.0</td>\n",
       "    </tr>\n",
       "  </tbody>\n",
       "</table>\n",
       "</div>"
      ],
      "text/plain": [
       "        weight   height   age\n",
       "80   41.900561  147.955  17.0\n",
       "108  32.460178  148.590  16.0\n",
       "143  38.130078  149.225  17.0\n",
       "185  32.205032  142.875  17.0\n",
       "219  44.735511  147.955  16.0\n",
       "239  40.766581  153.670  16.0\n",
       "256  43.091240  158.115  17.0\n",
       "270  35.493574  145.415  15.0\n",
       "289  33.792604  147.955  17.0\n",
       "297  34.841535  143.510  16.0\n",
       "301  41.276872  147.955  17.0\n",
       "317  40.312989  147.320  16.0\n",
       "404  37.903281  146.050  16.0\n",
       "434  39.179009  154.940  16.0\n",
       "458  32.488527  147.955  12.0\n",
       "465  41.305222  157.480  17.0\n",
       "494  34.246196  145.415  14.0\n",
       "496  32.545226  144.780  15.0\n",
       "539  31.127751  145.415  17.0"
      ]
     },
     "execution_count": 5,
     "metadata": {},
     "output_type": "execute_result"
    }
   ],
   "source": [
    "kids = kung[kung.age < 18][[\"weight\", \"height\", \"age\"]]\n",
    "kids[kids.weight > 30]"
   ]
  },
  {
   "cell_type": "markdown",
   "metadata": {},
   "source": [
    "# 2.1"
   ]
  },
  {
   "cell_type": "code",
   "execution_count": 6,
   "metadata": {},
   "outputs": [
    {
     "data": {
      "text/html": [
       "<div>\n",
       "<style scoped>\n",
       "    .dataframe tbody tr th:only-of-type {\n",
       "        vertical-align: middle;\n",
       "    }\n",
       "\n",
       "    .dataframe tbody tr th {\n",
       "        vertical-align: top;\n",
       "    }\n",
       "\n",
       "    .dataframe thead th {\n",
       "        text-align: right;\n",
       "    }\n",
       "</style>\n",
       "<table border=\"1\" class=\"dataframe\">\n",
       "  <thead>\n",
       "    <tr style=\"text-align: right;\">\n",
       "      <th></th>\n",
       "      <th>height</th>\n",
       "      <th>weight</th>\n",
       "      <th>age</th>\n",
       "      <th>male</th>\n",
       "      <th>weight_s</th>\n",
       "    </tr>\n",
       "  </thead>\n",
       "  <tbody>\n",
       "    <tr>\n",
       "      <th>count</th>\n",
       "      <td>352.000000</td>\n",
       "      <td>352.000000</td>\n",
       "      <td>352.000000</td>\n",
       "      <td>352.000000</td>\n",
       "      <td>3.520000e+02</td>\n",
       "    </tr>\n",
       "    <tr>\n",
       "      <th>mean</th>\n",
       "      <td>154.597093</td>\n",
       "      <td>44.990486</td>\n",
       "      <td>41.138494</td>\n",
       "      <td>0.468750</td>\n",
       "      <td>1.211152e-16</td>\n",
       "    </tr>\n",
       "    <tr>\n",
       "      <th>std</th>\n",
       "      <td>7.742332</td>\n",
       "      <td>6.456708</td>\n",
       "      <td>15.967855</td>\n",
       "      <td>0.499733</td>\n",
       "      <td>1.000000e+00</td>\n",
       "    </tr>\n",
       "    <tr>\n",
       "      <th>min</th>\n",
       "      <td>136.525000</td>\n",
       "      <td>31.071052</td>\n",
       "      <td>18.000000</td>\n",
       "      <td>0.000000</td>\n",
       "      <td>-2.155810e+00</td>\n",
       "    </tr>\n",
       "    <tr>\n",
       "      <th>25%</th>\n",
       "      <td>148.590000</td>\n",
       "      <td>40.256290</td>\n",
       "      <td>28.000000</td>\n",
       "      <td>0.000000</td>\n",
       "      <td>-7.332212e-01</td>\n",
       "    </tr>\n",
       "    <tr>\n",
       "      <th>50%</th>\n",
       "      <td>154.305000</td>\n",
       "      <td>44.792210</td>\n",
       "      <td>39.000000</td>\n",
       "      <td>0.000000</td>\n",
       "      <td>-3.070845e-02</td>\n",
       "    </tr>\n",
       "    <tr>\n",
       "      <th>75%</th>\n",
       "      <td>160.655000</td>\n",
       "      <td>49.292693</td>\n",
       "      <td>51.000000</td>\n",
       "      <td>1.000000</td>\n",
       "      <td>6.663160e-01</td>\n",
       "    </tr>\n",
       "    <tr>\n",
       "      <th>max</th>\n",
       "      <td>179.070000</td>\n",
       "      <td>62.992589</td>\n",
       "      <td>88.000000</td>\n",
       "      <td>1.000000</td>\n",
       "      <td>2.788124e+00</td>\n",
       "    </tr>\n",
       "  </tbody>\n",
       "</table>\n",
       "</div>"
      ],
      "text/plain": [
       "           height      weight         age        male      weight_s\n",
       "count  352.000000  352.000000  352.000000  352.000000  3.520000e+02\n",
       "mean   154.597093   44.990486   41.138494    0.468750  1.211152e-16\n",
       "std      7.742332    6.456708   15.967855    0.499733  1.000000e+00\n",
       "min    136.525000   31.071052   18.000000    0.000000 -2.155810e+00\n",
       "25%    148.590000   40.256290   28.000000    0.000000 -7.332212e-01\n",
       "50%    154.305000   44.792210   39.000000    0.000000 -3.070845e-02\n",
       "75%    160.655000   49.292693   51.000000    1.000000  6.663160e-01\n",
       "max    179.070000   62.992589   88.000000    1.000000  2.788124e+00"
      ]
     },
     "execution_count": 6,
     "metadata": {},
     "output_type": "execute_result"
    }
   ],
   "source": [
    "adults = kung[kung.age >= 18].copy()\n",
    "adults[\"weight_s\"] = standardize(adults.weight)\n",
    "adults.describe()"
   ]
  },
  {
   "cell_type": "code",
   "execution_count": 20,
   "metadata": {},
   "outputs": [
    {
     "data": {
      "text/html": [
       "<div>\n",
       "<style scoped>\n",
       "    .dataframe tbody tr th:only-of-type {\n",
       "        vertical-align: middle;\n",
       "    }\n",
       "\n",
       "    .dataframe tbody tr th {\n",
       "        vertical-align: top;\n",
       "    }\n",
       "\n",
       "    .dataframe thead th {\n",
       "        text-align: right;\n",
       "    }\n",
       "</style>\n",
       "<table border=\"1\" class=\"dataframe\">\n",
       "  <thead>\n",
       "    <tr style=\"text-align: right;\">\n",
       "      <th></th>\n",
       "      <th>height</th>\n",
       "      <th>weight</th>\n",
       "      <th>age</th>\n",
       "      <th>male</th>\n",
       "      <th>weight_s</th>\n",
       "    </tr>\n",
       "  </thead>\n",
       "  <tbody>\n",
       "    <tr>\n",
       "      <th>0</th>\n",
       "      <td>151.765</td>\n",
       "      <td>47.825606</td>\n",
       "      <td>63.0</td>\n",
       "      <td>1</td>\n",
       "      <td>0.439097</td>\n",
       "    </tr>\n",
       "    <tr>\n",
       "      <th>1</th>\n",
       "      <td>139.700</td>\n",
       "      <td>36.485807</td>\n",
       "      <td>63.0</td>\n",
       "      <td>0</td>\n",
       "      <td>-1.317185</td>\n",
       "    </tr>\n",
       "    <tr>\n",
       "      <th>2</th>\n",
       "      <td>136.525</td>\n",
       "      <td>31.864838</td>\n",
       "      <td>65.0</td>\n",
       "      <td>0</td>\n",
       "      <td>-2.032870</td>\n",
       "    </tr>\n",
       "    <tr>\n",
       "      <th>3</th>\n",
       "      <td>156.845</td>\n",
       "      <td>53.041915</td>\n",
       "      <td>41.0</td>\n",
       "      <td>1</td>\n",
       "      <td>1.246987</td>\n",
       "    </tr>\n",
       "    <tr>\n",
       "      <th>4</th>\n",
       "      <td>145.415</td>\n",
       "      <td>41.276872</td>\n",
       "      <td>51.0</td>\n",
       "      <td>0</td>\n",
       "      <td>-0.575156</td>\n",
       "    </tr>\n",
       "  </tbody>\n",
       "</table>\n",
       "</div>"
      ],
      "text/plain": [
       "    height     weight   age  male  weight_s\n",
       "0  151.765  47.825606  63.0     1  0.439097\n",
       "1  139.700  36.485807  63.0     0 -1.317185\n",
       "2  136.525  31.864838  65.0     0 -2.032870\n",
       "3  156.845  53.041915  41.0     1  1.246987\n",
       "4  145.415  41.276872  51.0     0 -0.575156"
      ]
     },
     "execution_count": 20,
     "metadata": {},
     "output_type": "execute_result"
    }
   ],
   "source": [
    "adults.head()"
   ]
  },
  {
   "cell_type": "code",
   "execution_count": 7,
   "metadata": {},
   "outputs": [
    {
     "name": "stderr",
     "output_type": "stream",
     "text": [
      "/home/jnassar/.local/lib/pyenv/versions/bayes/lib/python3.9/site-packages/pymc3/sampling.py:465: FutureWarning: In an upcoming release, pm.sample will return an `arviz.InferenceData` object instead of a `MultiTrace` by default. You can pass return_inferencedata=True or return_inferencedata=False to be safe and silence this warning.\n",
      "  warnings.warn(\n",
      "Auto-assigning NUTS sampler...\n",
      "Initializing NUTS using jitter+adapt_diag...\n",
      "Multiprocess sampling (4 chains in 4 jobs)\n",
      "NUTS: [σ, β, α]\n"
     ]
    },
    {
     "data": {
      "text/html": [
       "\n",
       "    <div>\n",
       "        <style>\n",
       "            /* Turns off some styling */\n",
       "            progress {\n",
       "                /* gets rid of default border in Firefox and Opera. */\n",
       "                border: none;\n",
       "                /* Needs to be in here for Safari polyfill so background images work as expected. */\n",
       "                background-size: auto;\n",
       "            }\n",
       "            .progress-bar-interrupted, .progress-bar-interrupted::-webkit-progress-bar {\n",
       "                background: #F44336;\n",
       "            }\n",
       "        </style>\n",
       "      <progress value='8000' class='' max='8000' style='width:300px; height:20px; vertical-align: middle;'></progress>\n",
       "      100.00% [8000/8000 00:06<00:00 Sampling 4 chains, 0 divergences]\n",
       "    </div>\n",
       "    "
      ],
      "text/plain": [
       "<IPython.core.display.HTML object>"
      ]
     },
     "metadata": {},
     "output_type": "display_data"
    },
    {
     "name": "stderr",
     "output_type": "stream",
     "text": [
      "Sampling 4 chains for 1_000 tune and 1_000 draw iterations (4_000 + 4_000 draws total) took 8 seconds.\n"
     ]
    }
   ],
   "source": [
    "with pm.Model() as m_adult:\n",
    "    weight_s = pm.Data(\"weight_s\", adults.weight_s.values)\n",
    "    a = pm.Normal(\"α\", mu=155, sd=20)\n",
    "    b = pm.Lognormal(\"β\", mu=0, sd=1)\n",
    "    mu = pm.Deterministic(\"μ\", a + b * weight_s)\n",
    "    sigma = pm.Uniform(\"σ\", 0, 50)\n",
    "    height = pm.Normal(\"height\", mu=mu, sd=sigma, observed=adults.height)\n",
    "    trace_adult = pm.sample()"
   ]
  },
  {
   "cell_type": "code",
   "execution_count": 25,
   "metadata": {},
   "outputs": [
    {
     "data": {
      "application/vnd.jupyter.widget-view+json": {
       "model_id": "ec79521d15a24e28a804e021f6744b1c",
       "version_major": 2,
       "version_minor": 0
      },
      "text/plain": [
       "Canvas(toolbar=Toolbar(toolitems=[('Home', 'Reset original view', 'home', 'home'), ('Back', 'Back to previous …"
      ]
     },
     "metadata": {},
     "output_type": "display_data"
    },
    {
     "name": "stderr",
     "output_type": "stream",
     "text": [
      "/home/jnassar/.local/lib/pyenv/versions/bayes/lib/python3.9/site-packages/arviz/stats/stats.py:484: FutureWarning: hdi currently interprets 2d data as (draw, shape) but this will change in a future release to (chain, draw) for coherence with other functions\n",
      "  warnings.warn(\n",
      "/home/jnassar/.local/lib/pyenv/versions/bayes/lib/python3.9/site-packages/arviz/stats/stats.py:484: FutureWarning: hdi currently interprets 2d data as (draw, shape) but this will change in a future release to (chain, draw) for coherence with other functions\n",
      "  warnings.warn(\n"
     ]
    },
    {
     "data": {
      "text/plain": [
       "[Text(0.5, 0, 'weight'), Text(0, 0.5, 'height')]"
      ]
     },
     "execution_count": 25,
     "metadata": {},
     "output_type": "execute_result"
    }
   ],
   "source": [
    "height_pred = pm.fast_sample_posterior_predictive(trace_adult, model=m_adult)[\"height\"]\n",
    "fig, ax = plt.subplots()\n",
    "ax.plot(adults.weight, adults.height, \".\")\n",
    "ax.plot(adults.weight, trace_adult.μ.mean(axis=0), color=\"black\")\n",
    "az.plot_hdi(adults.weight, trace_adult.μ, ax=ax, color=\"black\")\n",
    "az.plot_hdi(adults.weight, height_pred, ax=ax)\n",
    "ax.set(xlabel=\"weight\", ylabel=\"height\")"
   ]
  },
  {
   "cell_type": "code",
   "execution_count": 17,
   "metadata": {},
   "outputs": [],
   "source": [
    "missing_weights = np.array([45, 40, 65, 31, 53])\n",
    "with m_adult:\n",
    "    pm.set_data({\"weight_s\": standardize(missing_weights, adults.weight)})\n",
    "    height_pred_data = pm.fast_sample_posterior_predictive(trace_adult)[\"height\"]"
   ]
  },
  {
   "cell_type": "code",
   "execution_count": 7,
   "metadata": {},
   "outputs": [
    {
     "name": "stderr",
     "output_type": "stream",
     "text": [
      "/home/jnassar/.local/lib/pyenv/versions/bayes/lib/python3.9/site-packages/arviz/stats/stats.py:484: FutureWarning: hdi currently interprets 2d data as (draw, shape) but this will change in a future release to (chain, draw) for coherence with other functions\n",
      "  warnings.warn(\n"
     ]
    },
    {
     "data": {
      "text/html": [
       "<div>\n",
       "<style scoped>\n",
       "    .dataframe tbody tr th:only-of-type {\n",
       "        vertical-align: middle;\n",
       "    }\n",
       "\n",
       "    .dataframe tbody tr th {\n",
       "        vertical-align: top;\n",
       "    }\n",
       "\n",
       "    .dataframe thead th {\n",
       "        text-align: right;\n",
       "    }\n",
       "</style>\n",
       "<table border=\"1\" class=\"dataframe\">\n",
       "  <thead>\n",
       "    <tr style=\"text-align: right;\">\n",
       "      <th></th>\n",
       "      <th>weight</th>\n",
       "      <th>expected_height</th>\n",
       "      <th>hdi_lower</th>\n",
       "      <th>hdi_upper</th>\n",
       "    </tr>\n",
       "  </thead>\n",
       "  <tbody>\n",
       "    <tr>\n",
       "      <th>0</th>\n",
       "      <td>45</td>\n",
       "      <td>154.571502</td>\n",
       "      <td>146.820900</td>\n",
       "      <td>162.344371</td>\n",
       "    </tr>\n",
       "    <tr>\n",
       "      <th>1</th>\n",
       "      <td>40</td>\n",
       "      <td>150.076861</td>\n",
       "      <td>141.973369</td>\n",
       "      <td>158.266636</td>\n",
       "    </tr>\n",
       "    <tr>\n",
       "      <th>2</th>\n",
       "      <td>65</td>\n",
       "      <td>172.641738</td>\n",
       "      <td>164.214571</td>\n",
       "      <td>180.636881</td>\n",
       "    </tr>\n",
       "    <tr>\n",
       "      <th>3</th>\n",
       "      <td>31</td>\n",
       "      <td>141.965642</td>\n",
       "      <td>134.095328</td>\n",
       "      <td>150.073777</td>\n",
       "    </tr>\n",
       "    <tr>\n",
       "      <th>4</th>\n",
       "      <td>53</td>\n",
       "      <td>161.788825</td>\n",
       "      <td>153.599855</td>\n",
       "      <td>170.185546</td>\n",
       "    </tr>\n",
       "  </tbody>\n",
       "</table>\n",
       "</div>"
      ],
      "text/plain": [
       "   weight  expected_height   hdi_lower   hdi_upper\n",
       "0      45       154.571502  146.820900  162.344371\n",
       "1      40       150.076861  141.973369  158.266636\n",
       "2      65       172.641738  164.214571  180.636881\n",
       "3      31       141.965642  134.095328  150.073777\n",
       "4      53       161.788825  153.599855  170.185546"
      ]
     },
     "execution_count": 7,
     "metadata": {},
     "output_type": "execute_result"
    }
   ],
   "source": [
    "missing_df = pd.DataFrame(missing_weights, columns=[\"weight\"])\n",
    "missing_df[\"expected_height\"] = height_pred_data.mean(axis=0)\n",
    "missing_df[[\"hdi_lower\", \"hdi_upper\"]] = az.hdi(height_pred_data)\n",
    "missing_df"
   ]
  },
  {
   "cell_type": "markdown",
   "metadata": {},
   "source": [
    "# 2.2"
   ]
  },
  {
   "cell_type": "code",
   "execution_count": 146,
   "metadata": {},
   "outputs": [
    {
     "data": {
      "text/html": [
       "<div>\n",
       "<style scoped>\n",
       "    .dataframe tbody tr th:only-of-type {\n",
       "        vertical-align: middle;\n",
       "    }\n",
       "\n",
       "    .dataframe tbody tr th {\n",
       "        vertical-align: top;\n",
       "    }\n",
       "\n",
       "    .dataframe thead th {\n",
       "        text-align: right;\n",
       "    }\n",
       "</style>\n",
       "<table border=\"1\" class=\"dataframe\">\n",
       "  <thead>\n",
       "    <tr style=\"text-align: right;\">\n",
       "      <th></th>\n",
       "      <th>height</th>\n",
       "      <th>weight</th>\n",
       "      <th>age</th>\n",
       "      <th>male</th>\n",
       "      <th>weight_s</th>\n",
       "      <th>log_weight</th>\n",
       "      <th>log_weight_s</th>\n",
       "      <th>log_height</th>\n",
       "    </tr>\n",
       "  </thead>\n",
       "  <tbody>\n",
       "    <tr>\n",
       "      <th>0</th>\n",
       "      <td>151.765</td>\n",
       "      <td>47.825606</td>\n",
       "      <td>63.0</td>\n",
       "      <td>1</td>\n",
       "      <td>0.829869</td>\n",
       "      <td>3.867561</td>\n",
       "      <td>0.738301</td>\n",
       "      <td>5.022333</td>\n",
       "    </tr>\n",
       "    <tr>\n",
       "      <th>1</th>\n",
       "      <td>139.700</td>\n",
       "      <td>36.485807</td>\n",
       "      <td>63.0</td>\n",
       "      <td>0</td>\n",
       "      <td>0.059459</td>\n",
       "      <td>3.596923</td>\n",
       "      <td>0.268410</td>\n",
       "      <td>4.939497</td>\n",
       "    </tr>\n",
       "    <tr>\n",
       "      <th>2</th>\n",
       "      <td>136.525</td>\n",
       "      <td>31.864838</td>\n",
       "      <td>65.0</td>\n",
       "      <td>0</td>\n",
       "      <td>-0.254483</td>\n",
       "      <td>3.461503</td>\n",
       "      <td>0.033289</td>\n",
       "      <td>4.916508</td>\n",
       "    </tr>\n",
       "    <tr>\n",
       "      <th>3</th>\n",
       "      <td>156.845</td>\n",
       "      <td>53.041915</td>\n",
       "      <td>41.0</td>\n",
       "      <td>1</td>\n",
       "      <td>1.184257</td>\n",
       "      <td>3.971082</td>\n",
       "      <td>0.918038</td>\n",
       "      <td>5.055258</td>\n",
       "    </tr>\n",
       "    <tr>\n",
       "      <th>4</th>\n",
       "      <td>145.415</td>\n",
       "      <td>41.276872</td>\n",
       "      <td>51.0</td>\n",
       "      <td>0</td>\n",
       "      <td>0.384957</td>\n",
       "      <td>3.720302</td>\n",
       "      <td>0.482625</td>\n",
       "      <td>4.979592</td>\n",
       "    </tr>\n",
       "  </tbody>\n",
       "</table>\n",
       "</div>"
      ],
      "text/plain": [
       "    height     weight   age  male  weight_s  log_weight  log_weight_s  \\\n",
       "0  151.765  47.825606  63.0     1  0.829869    3.867561      0.738301   \n",
       "1  139.700  36.485807  63.0     0  0.059459    3.596923      0.268410   \n",
       "2  136.525  31.864838  65.0     0 -0.254483    3.461503      0.033289   \n",
       "3  156.845  53.041915  41.0     1  1.184257    3.971082      0.918038   \n",
       "4  145.415  41.276872  51.0     0  0.384957    3.720302      0.482625   \n",
       "\n",
       "   log_height  \n",
       "0    5.022333  \n",
       "1    4.939497  \n",
       "2    4.916508  \n",
       "3    5.055258  \n",
       "4    4.979592  "
      ]
     },
     "execution_count": 146,
     "metadata": {},
     "output_type": "execute_result"
    }
   ],
   "source": [
    "kung[\"weight_s\"] = standardize(kung.weight)\n",
    "kung[\"log_weight\"] = np.log(kung.weight)\n",
    "kung[\"log_weight_s\"] = standardize(kung.log_weight)\n",
    "kung[\"log_height\"] = np.log(kung.height)\n",
    "kung.head()"
   ]
  },
  {
   "cell_type": "code",
   "execution_count": 40,
   "metadata": {},
   "outputs": [
    {
     "name": "stderr",
     "output_type": "stream",
     "text": [
      "/home/jnassar/.local/lib/pyenv/versions/bayes/lib/python3.9/site-packages/pymc3/sampling.py:465: FutureWarning: In an upcoming release, pm.sample will return an `arviz.InferenceData` object instead of a `MultiTrace` by default. You can pass return_inferencedata=True or return_inferencedata=False to be safe and silence this warning.\n",
      "  warnings.warn(\n",
      "Auto-assigning NUTS sampler...\n",
      "Initializing NUTS using jitter+adapt_diag...\n",
      "Multiprocess sampling (4 chains in 4 jobs)\n",
      "NUTS: [σ, β, α]\n"
     ]
    },
    {
     "data": {
      "text/html": [
       "\n",
       "    <div>\n",
       "        <style>\n",
       "            /* Turns off some styling */\n",
       "            progress {\n",
       "                /* gets rid of default border in Firefox and Opera. */\n",
       "                border: none;\n",
       "                /* Needs to be in here for Safari polyfill so background images work as expected. */\n",
       "                background-size: auto;\n",
       "            }\n",
       "            .progress-bar-interrupted, .progress-bar-interrupted::-webkit-progress-bar {\n",
       "                background: #F44336;\n",
       "            }\n",
       "        </style>\n",
       "      <progress value='8000' class='' max='8000' style='width:300px; height:20px; vertical-align: middle;'></progress>\n",
       "      100.00% [8000/8000 00:02<00:00 Sampling 4 chains, 0 divergences]\n",
       "    </div>\n",
       "    "
      ],
      "text/plain": [
       "<IPython.core.display.HTML object>"
      ]
     },
     "metadata": {},
     "output_type": "display_data"
    },
    {
     "name": "stderr",
     "output_type": "stream",
     "text": [
      "Sampling 4 chains for 1_000 tune and 1_000 draw iterations (4_000 + 4_000 draws total) took 3 seconds.\n"
     ]
    }
   ],
   "source": [
    "with pm.Model() as m_log:\n",
    "    a = pm.Normal(\"α\", mu=155, sd=20)\n",
    "    b = pm.Lognormal(\"β\", mu=0, sd=1)\n",
    "    mu = pm.Deterministic(\"μ\", a + b * kung.log_weight_s)\n",
    "    sigma = pm.Uniform(\"σ\", 0, 50)\n",
    "    height = pm.Normal(\"height\", mu=mu, sd=sigma, observed=kung.height)\n",
    "    trace_log = pm.sample()"
   ]
  },
  {
   "cell_type": "code",
   "execution_count": 51,
   "metadata": {},
   "outputs": [
    {
     "data": {
      "application/vnd.jupyter.widget-view+json": {
       "model_id": "c1f5041cbfdf4398864a4fb6e5fbcfec",
       "version_major": 2,
       "version_minor": 0
      },
      "text/plain": [
       "Canvas(toolbar=Toolbar(toolitems=[('Home', 'Reset original view', 'home', 'home'), ('Back', 'Back to previous …"
      ]
     },
     "metadata": {},
     "output_type": "display_data"
    },
    {
     "name": "stderr",
     "output_type": "stream",
     "text": [
      "/home/jnassar/.local/lib/pyenv/versions/bayes/lib/python3.9/site-packages/arviz/stats/stats.py:484: FutureWarning: hdi currently interprets 2d data as (draw, shape) but this will change in a future release to (chain, draw) for coherence with other functions\n",
      "  warnings.warn(\n",
      "/home/jnassar/.local/lib/pyenv/versions/bayes/lib/python3.9/site-packages/arviz/stats/stats.py:484: FutureWarning: hdi currently interprets 2d data as (draw, shape) but this will change in a future release to (chain, draw) for coherence with other functions\n",
      "  warnings.warn(\n"
     ]
    }
   ],
   "source": [
    "height_pred = pm.fast_sample_posterior_predictive(trace_log, model=m_log)[\"height\"]\n",
    "\n",
    "fig, ax = plt.subplots()\n",
    "ax.semilogx(kung.weight, kung.height, \".\")\n",
    "az.plot_hdi(kung.weight, trace_log.μ, ax=ax, color=\"black\")\n",
    "az.plot_hdi(kung.weight, height_pred, ax=ax)\n",
    "ax.set(xlabel=\"weight\", ylabel=\"height\")\n",
    "fig.tight_layout()"
   ]
  },
  {
   "cell_type": "code",
   "execution_count": 45,
   "metadata": {},
   "outputs": [
    {
     "data": {
      "text/plain": [
       "(138.2650683346616, 27.11230446681811)"
      ]
     },
     "execution_count": 45,
     "metadata": {},
     "output_type": "execute_result"
    }
   ],
   "source": [
    "trace_log.α.mean(), trace_log.β.mean()"
   ]
  },
  {
   "cell_type": "markdown",
   "metadata": {},
   "source": [
    "## Bonus\n",
    "\n",
    "Weight is proportional to the cube of the height."
   ]
  },
  {
   "cell_type": "code",
   "execution_count": 46,
   "metadata": {},
   "outputs": [
    {
     "name": "stderr",
     "output_type": "stream",
     "text": [
      "/home/jnassar/.local/lib/pyenv/versions/bayes/lib/python3.9/site-packages/pymc3/sampling.py:465: FutureWarning: In an upcoming release, pm.sample will return an `arviz.InferenceData` object instead of a `MultiTrace` by default. You can pass return_inferencedata=True or return_inferencedata=False to be safe and silence this warning.\n",
      "  warnings.warn(\n",
      "Auto-assigning NUTS sampler...\n",
      "Initializing NUTS using jitter+adapt_diag...\n",
      "Multiprocess sampling (4 chains in 4 jobs)\n",
      "NUTS: [σ, β, α]\n"
     ]
    },
    {
     "data": {
      "text/html": [
       "\n",
       "    <div>\n",
       "        <style>\n",
       "            /* Turns off some styling */\n",
       "            progress {\n",
       "                /* gets rid of default border in Firefox and Opera. */\n",
       "                border: none;\n",
       "                /* Needs to be in here for Safari polyfill so background images work as expected. */\n",
       "                background-size: auto;\n",
       "            }\n",
       "            .progress-bar-interrupted, .progress-bar-interrupted::-webkit-progress-bar {\n",
       "                background: #F44336;\n",
       "            }\n",
       "        </style>\n",
       "      <progress value='8000' class='' max='8000' style='width:300px; height:20px; vertical-align: middle;'></progress>\n",
       "      100.00% [8000/8000 00:32<00:00 Sampling 4 chains, 246 divergences]\n",
       "    </div>\n",
       "    "
      ],
      "text/plain": [
       "<IPython.core.display.HTML object>"
      ]
     },
     "metadata": {},
     "output_type": "display_data"
    },
    {
     "name": "stderr",
     "output_type": "stream",
     "text": [
      "Sampling 4 chains for 1_000 tune and 1_000 draw iterations (4_000 + 4_000 draws total) took 33 seconds.\n",
      "There were 73 divergences after tuning. Increase `target_accept` or reparameterize.\n",
      "There were 173 divergences after tuning. Increase `target_accept` or reparameterize.\n",
      "The acceptance probability does not match the target. It is 0.707080996897946, but should be close to 0.8. Try to increase the number of tuning steps.\n",
      "The estimated number of effective samples is smaller than 200 for some parameters.\n"
     ]
    }
   ],
   "source": [
    "weights_m = np.vstack(\n",
    "    (\n",
    "        kung.weight_s,\n",
    "        standardize(kung.weight ** 0.5),\n",
    "        standardize(kung.weight ** (1 / 3)),\n",
    "    )\n",
    ")\n",
    "\n",
    "with pm.Model() as m_cube:\n",
    "    a = pm.Normal(\"α\", mu=155, sd=20)\n",
    "    b = pm.Normal(\"β\", mu=0, sd=10, shape=3)\n",
    "    mu = pm.Deterministic(\"μ\", a + b @ weights_m)\n",
    "    sigma = pm.Uniform(\"σ\", 0, 50)\n",
    "    height = pm.Normal(\"height\", mu=mu, sd=sigma, observed=kung.height)\n",
    "    trace_cube = pm.sample()"
   ]
  },
  {
   "cell_type": "code",
   "execution_count": 47,
   "metadata": {},
   "outputs": [
    {
     "data": {
      "application/vnd.jupyter.widget-view+json": {
       "model_id": "3d8922e0b54c41fabdecb8fe93a0c688",
       "version_major": 2,
       "version_minor": 0
      },
      "text/plain": [
       "Canvas(toolbar=Toolbar(toolitems=[('Home', 'Reset original view', 'home', 'home'), ('Back', 'Back to previous …"
      ]
     },
     "metadata": {},
     "output_type": "display_data"
    },
    {
     "name": "stderr",
     "output_type": "stream",
     "text": [
      "/home/jnassar/.local/lib/pyenv/versions/bayes/lib/python3.9/site-packages/arviz/stats/stats.py:484: FutureWarning: hdi currently interprets 2d data as (draw, shape) but this will change in a future release to (chain, draw) for coherence with other functions\n",
      "  warnings.warn(\n",
      "/home/jnassar/.local/lib/pyenv/versions/bayes/lib/python3.9/site-packages/arviz/stats/stats.py:484: FutureWarning: hdi currently interprets 2d data as (draw, shape) but this will change in a future release to (chain, draw) for coherence with other functions\n",
      "  warnings.warn(\n"
     ]
    }
   ],
   "source": [
    "height_pred = pm.fast_sample_posterior_predictive(trace_cube, model=m_cube)[\"height\"]\n",
    "\n",
    "fig, ax = plt.subplots()\n",
    "ax.semilogx(kung.weight, kung.height, \".\")\n",
    "az.plot_hdi(kung.weight, trace_cube.μ, ax=ax, color=\"black\")\n",
    "az.plot_hdi(kung.weight, height_pred, ax=ax)\n",
    "ax.set(xlabel=\"weight\", ylabel=\"height\")\n",
    "fig.tight_layout()"
   ]
  },
  {
   "cell_type": "code",
   "execution_count": 14,
   "metadata": {},
   "outputs": [
    {
     "data": {
      "text/plain": [
       "(138.27455844836052, array([-26.06568479,  17.29215627,  35.34146282]))"
      ]
     },
     "execution_count": 14,
     "metadata": {},
     "output_type": "execute_result"
    }
   ],
   "source": [
    "trace_cube.α.mean(), trace_cube.β.mean(axis=0)"
   ]
  },
  {
   "cell_type": "markdown",
   "metadata": {},
   "source": [
    "## Double bonus, just keep one"
   ]
  },
  {
   "cell_type": "code",
   "execution_count": 48,
   "metadata": {},
   "outputs": [
    {
     "name": "stderr",
     "output_type": "stream",
     "text": [
      "/home/jnassar/.local/lib/pyenv/versions/bayes/lib/python3.9/site-packages/pymc3/sampling.py:465: FutureWarning: In an upcoming release, pm.sample will return an `arviz.InferenceData` object instead of a `MultiTrace` by default. You can pass return_inferencedata=True or return_inferencedata=False to be safe and silence this warning.\n",
      "  warnings.warn(\n",
      "Auto-assigning NUTS sampler...\n",
      "Initializing NUTS using jitter+adapt_diag...\n",
      "Multiprocess sampling (4 chains in 4 jobs)\n",
      "NUTS: [σ, β, α]\n"
     ]
    },
    {
     "data": {
      "text/html": [
       "\n",
       "    <div>\n",
       "        <style>\n",
       "            /* Turns off some styling */\n",
       "            progress {\n",
       "                /* gets rid of default border in Firefox and Opera. */\n",
       "                border: none;\n",
       "                /* Needs to be in here for Safari polyfill so background images work as expected. */\n",
       "                background-size: auto;\n",
       "            }\n",
       "            .progress-bar-interrupted, .progress-bar-interrupted::-webkit-progress-bar {\n",
       "                background: #F44336;\n",
       "            }\n",
       "        </style>\n",
       "      <progress value='8000' class='' max='8000' style='width:300px; height:20px; vertical-align: middle;'></progress>\n",
       "      100.00% [8000/8000 00:02<00:00 Sampling 4 chains, 0 divergences]\n",
       "    </div>\n",
       "    "
      ],
      "text/plain": [
       "<IPython.core.display.HTML object>"
      ]
     },
     "metadata": {},
     "output_type": "display_data"
    },
    {
     "name": "stderr",
     "output_type": "stream",
     "text": [
      "Sampling 4 chains for 1_000 tune and 1_000 draw iterations (4_000 + 4_000 draws total) took 3 seconds.\n"
     ]
    }
   ],
   "source": [
    "weight_cube_root = standardize(kung.weight ** (1 / 3))\n",
    "with pm.Model() as m_cube_root:\n",
    "    a = pm.Normal(\"α\", mu=155, sd=20)\n",
    "    b = pm.Normal(\"β\", mu=0, sd=10)\n",
    "    mu = pm.Deterministic(\"μ\", a + b * weight_cube_root)\n",
    "    sigma = pm.Uniform(\"σ\", 0, 50)\n",
    "    height = pm.Normal(\"height\", mu=mu, sd=sigma, observed=kung.height)\n",
    "    trace_cube_root = pm.sample()"
   ]
  },
  {
   "cell_type": "code",
   "execution_count": 50,
   "metadata": {},
   "outputs": [
    {
     "data": {
      "application/vnd.jupyter.widget-view+json": {
       "model_id": "5ae23da7a8cd4099963647b125077d57",
       "version_major": 2,
       "version_minor": 0
      },
      "text/plain": [
       "Canvas(toolbar=Toolbar(toolitems=[('Home', 'Reset original view', 'home', 'home'), ('Back', 'Back to previous …"
      ]
     },
     "metadata": {},
     "output_type": "display_data"
    },
    {
     "name": "stderr",
     "output_type": "stream",
     "text": [
      "/home/jnassar/.local/lib/pyenv/versions/bayes/lib/python3.9/site-packages/arviz/stats/stats.py:484: FutureWarning: hdi currently interprets 2d data as (draw, shape) but this will change in a future release to (chain, draw) for coherence with other functions\n",
      "  warnings.warn(\n",
      "/home/jnassar/.local/lib/pyenv/versions/bayes/lib/python3.9/site-packages/arviz/stats/stats.py:484: FutureWarning: hdi currently interprets 2d data as (draw, shape) but this will change in a future release to (chain, draw) for coherence with other functions\n",
      "  warnings.warn(\n"
     ]
    }
   ],
   "source": [
    "height_pred = pm.fast_sample_posterior_predictive(trace_cube_root, model=m_cube_root)[\n",
    "    \"height\"\n",
    "]\n",
    "\n",
    "fig, ax = plt.subplots()\n",
    "ax.semilogx(kung.weight, kung.height, \".\")\n",
    "az.plot_hdi(kung.weight, trace_cube_root.μ, ax=ax, color=\"black\")\n",
    "az.plot_hdi(kung.weight, height_pred, ax=ax)\n",
    "ax.set(xlabel=\"weight\", ylabel=\"height\")\n",
    "fig.tight_layout()"
   ]
  },
  {
   "cell_type": "markdown",
   "metadata": {},
   "source": [
    "This isn't fit to be a parent. Can't handle babies."
   ]
  },
  {
   "cell_type": "code",
   "execution_count": 53,
   "metadata": {},
   "outputs": [
    {
     "data": {
      "text/html": [
       "<div>\n",
       "<style scoped>\n",
       "    .dataframe tbody tr th:only-of-type {\n",
       "        vertical-align: middle;\n",
       "    }\n",
       "\n",
       "    .dataframe tbody tr th {\n",
       "        vertical-align: top;\n",
       "    }\n",
       "\n",
       "    .dataframe thead th {\n",
       "        text-align: right;\n",
       "    }\n",
       "</style>\n",
       "<table border=\"1\" class=\"dataframe\">\n",
       "  <thead>\n",
       "    <tr style=\"text-align: right;\">\n",
       "      <th></th>\n",
       "      <th>height</th>\n",
       "      <th>weight</th>\n",
       "      <th>age</th>\n",
       "      <th>male</th>\n",
       "      <th>weight_s</th>\n",
       "      <th>log_weight</th>\n",
       "      <th>log_weight_s</th>\n",
       "    </tr>\n",
       "  </thead>\n",
       "  <tbody>\n",
       "    <tr>\n",
       "      <th>8</th>\n",
       "      <td>147.955</td>\n",
       "      <td>34.869885</td>\n",
       "      <td>19.0</td>\n",
       "      <td>0</td>\n",
       "      <td>-0.050324</td>\n",
       "      <td>3.551624</td>\n",
       "      <td>0.189759</td>\n",
       "    </tr>\n",
       "    <tr>\n",
       "      <th>23</th>\n",
       "      <td>129.540</td>\n",
       "      <td>23.586784</td>\n",
       "      <td>13.0</td>\n",
       "      <td>1</td>\n",
       "      <td>-0.816882</td>\n",
       "      <td>3.160687</td>\n",
       "      <td>-0.488998</td>\n",
       "    </tr>\n",
       "    <tr>\n",
       "      <th>27</th>\n",
       "      <td>147.320</td>\n",
       "      <td>35.465224</td>\n",
       "      <td>19.0</td>\n",
       "      <td>0</td>\n",
       "      <td>-0.009878</td>\n",
       "      <td>3.568553</td>\n",
       "      <td>0.219152</td>\n",
       "    </tr>\n",
       "    <tr>\n",
       "      <th>28</th>\n",
       "      <td>137.160</td>\n",
       "      <td>27.328918</td>\n",
       "      <td>17.0</td>\n",
       "      <td>1</td>\n",
       "      <td>-0.562647</td>\n",
       "      <td>3.307945</td>\n",
       "      <td>-0.233323</td>\n",
       "    </tr>\n",
       "    <tr>\n",
       "      <th>29</th>\n",
       "      <td>125.730</td>\n",
       "      <td>22.679600</td>\n",
       "      <td>16.0</td>\n",
       "      <td>0</td>\n",
       "      <td>-0.878515</td>\n",
       "      <td>3.121466</td>\n",
       "      <td>-0.557095</td>\n",
       "    </tr>\n",
       "  </tbody>\n",
       "</table>\n",
       "</div>"
      ],
      "text/plain": [
       "     height     weight   age  male  weight_s  log_weight  log_weight_s\n",
       "8   147.955  34.869885  19.0     0 -0.050324    3.551624      0.189759\n",
       "23  129.540  23.586784  13.0     1 -0.816882    3.160687     -0.488998\n",
       "27  147.320  35.465224  19.0     0 -0.009878    3.568553      0.219152\n",
       "28  137.160  27.328918  17.0     1 -0.562647    3.307945     -0.233323\n",
       "29  125.730  22.679600  16.0     0 -0.878515    3.121466     -0.557095"
      ]
     },
     "execution_count": 53,
     "metadata": {},
     "output_type": "execute_result"
    }
   ],
   "source": [
    "teens = kung[(13 <= kung.age) & (kung.age <= 19)]\n",
    "teens.head()"
   ]
  },
  {
   "cell_type": "code",
   "execution_count": 54,
   "metadata": {},
   "outputs": [
    {
     "data": {
      "text/html": [
       "<div>\n",
       "<style scoped>\n",
       "    .dataframe tbody tr th:only-of-type {\n",
       "        vertical-align: middle;\n",
       "    }\n",
       "\n",
       "    .dataframe tbody tr th {\n",
       "        vertical-align: top;\n",
       "    }\n",
       "\n",
       "    .dataframe thead th {\n",
       "        text-align: right;\n",
       "    }\n",
       "</style>\n",
       "<table border=\"1\" class=\"dataframe\">\n",
       "  <thead>\n",
       "    <tr style=\"text-align: right;\">\n",
       "      <th></th>\n",
       "      <th>height</th>\n",
       "      <th>weight</th>\n",
       "      <th>age</th>\n",
       "      <th>male</th>\n",
       "      <th>weight_s</th>\n",
       "      <th>log_weight</th>\n",
       "      <th>log_weight_s</th>\n",
       "    </tr>\n",
       "  </thead>\n",
       "  <tbody>\n",
       "    <tr>\n",
       "      <th>count</th>\n",
       "      <td>61.000000</td>\n",
       "      <td>61.000000</td>\n",
       "      <td>61.000000</td>\n",
       "      <td>61.000000</td>\n",
       "      <td>61.000000</td>\n",
       "      <td>61.000000</td>\n",
       "      <td>61.000000</td>\n",
       "    </tr>\n",
       "    <tr>\n",
       "      <th>mean</th>\n",
       "      <td>141.790711</td>\n",
       "      <td>33.176536</td>\n",
       "      <td>15.950820</td>\n",
       "      <td>0.426230</td>\n",
       "      <td>-0.165368</td>\n",
       "      <td>3.469883</td>\n",
       "      <td>0.047839</td>\n",
       "    </tr>\n",
       "    <tr>\n",
       "      <th>std</th>\n",
       "      <td>10.964940</td>\n",
       "      <td>8.508303</td>\n",
       "      <td>2.003549</td>\n",
       "      <td>0.498632</td>\n",
       "      <td>0.578042</td>\n",
       "      <td>0.254625</td>\n",
       "      <td>0.442088</td>\n",
       "    </tr>\n",
       "    <tr>\n",
       "      <th>min</th>\n",
       "      <td>117.983000</td>\n",
       "      <td>20.128145</td>\n",
       "      <td>13.000000</td>\n",
       "      <td>0.000000</td>\n",
       "      <td>-1.051857</td>\n",
       "      <td>3.002119</td>\n",
       "      <td>-0.764308</td>\n",
       "    </tr>\n",
       "    <tr>\n",
       "      <th>25%</th>\n",
       "      <td>132.715000</td>\n",
       "      <td>25.627948</td>\n",
       "      <td>15.000000</td>\n",
       "      <td>0.000000</td>\n",
       "      <td>-0.678208</td>\n",
       "      <td>3.243683</td>\n",
       "      <td>-0.344896</td>\n",
       "    </tr>\n",
       "    <tr>\n",
       "      <th>50%</th>\n",
       "      <td>143.510000</td>\n",
       "      <td>31.524644</td>\n",
       "      <td>16.000000</td>\n",
       "      <td>0.000000</td>\n",
       "      <td>-0.277595</td>\n",
       "      <td>3.450770</td>\n",
       "      <td>0.014653</td>\n",
       "    </tr>\n",
       "    <tr>\n",
       "      <th>75%</th>\n",
       "      <td>147.955000</td>\n",
       "      <td>40.624834</td>\n",
       "      <td>17.000000</td>\n",
       "      <td>1.000000</td>\n",
       "      <td>0.340659</td>\n",
       "      <td>3.704380</td>\n",
       "      <td>0.454979</td>\n",
       "    </tr>\n",
       "    <tr>\n",
       "      <th>max</th>\n",
       "      <td>162.560000</td>\n",
       "      <td>50.802304</td>\n",
       "      <td>19.000000</td>\n",
       "      <td>1.000000</td>\n",
       "      <td>1.032102</td>\n",
       "      <td>3.927942</td>\n",
       "      <td>0.843135</td>\n",
       "    </tr>\n",
       "  </tbody>\n",
       "</table>\n",
       "</div>"
      ],
      "text/plain": [
       "           height     weight        age       male   weight_s  log_weight  \\\n",
       "count   61.000000  61.000000  61.000000  61.000000  61.000000   61.000000   \n",
       "mean   141.790711  33.176536  15.950820   0.426230  -0.165368    3.469883   \n",
       "std     10.964940   8.508303   2.003549   0.498632   0.578042    0.254625   \n",
       "min    117.983000  20.128145  13.000000   0.000000  -1.051857    3.002119   \n",
       "25%    132.715000  25.627948  15.000000   0.000000  -0.678208    3.243683   \n",
       "50%    143.510000  31.524644  16.000000   0.000000  -0.277595    3.450770   \n",
       "75%    147.955000  40.624834  17.000000   1.000000   0.340659    3.704380   \n",
       "max    162.560000  50.802304  19.000000   1.000000   1.032102    3.927942   \n",
       "\n",
       "       log_weight_s  \n",
       "count     61.000000  \n",
       "mean       0.047839  \n",
       "std        0.442088  \n",
       "min       -0.764308  \n",
       "25%       -0.344896  \n",
       "50%        0.014653  \n",
       "75%        0.454979  \n",
       "max        0.843135  "
      ]
     },
     "execution_count": 54,
     "metadata": {},
     "output_type": "execute_result"
    }
   ],
   "source": [
    "teens.describe()"
   ]
  },
  {
   "cell_type": "code",
   "execution_count": 55,
   "metadata": {},
   "outputs": [
    {
     "data": {
      "application/vnd.jupyter.widget-view+json": {
       "model_id": "ad3550dbbcc64ed0bcfc3776f21b984f",
       "version_major": 2,
       "version_minor": 0
      },
      "text/plain": [
       "Canvas(toolbar=Toolbar(toolitems=[('Home', 'Reset original view', 'home', 'home'), ('Back', 'Back to previous …"
      ]
     },
     "metadata": {},
     "output_type": "display_data"
    },
    {
     "name": "stderr",
     "output_type": "stream",
     "text": [
      "/home/jnassar/.local/lib/pyenv/versions/bayes/lib/python3.9/site-packages/arviz/stats/stats.py:484: FutureWarning: hdi currently interprets 2d data as (draw, shape) but this will change in a future release to (chain, draw) for coherence with other functions\n",
      "  warnings.warn(\n",
      "/home/jnassar/.local/lib/pyenv/versions/bayes/lib/python3.9/site-packages/arviz/stats/stats.py:484: FutureWarning: hdi currently interprets 2d data as (draw, shape) but this will change in a future release to (chain, draw) for coherence with other functions\n",
      "  warnings.warn(\n"
     ]
    }
   ],
   "source": [
    "fig, ax = plt.subplots()\n",
    "ax.semilogx(kung.weight, kung.height, \".\")\n",
    "ax.semilogx(teens.weight, teens.height, \".\")\n",
    "az.plot_hdi(kung.weight, trace_cube_root.μ, ax=ax, color=\"black\")\n",
    "az.plot_hdi(kung.weight, height_pred, ax=ax)\n",
    "ax.set(xlabel=\"weight\", ylabel=\"height\")\n",
    "fig.tight_layout()"
   ]
  },
  {
   "cell_type": "code",
   "execution_count": 205,
   "metadata": {},
   "outputs": [
    {
     "data": {
      "application/vnd.jupyter.widget-view+json": {
       "model_id": "2bdc4982e27d47e282f64f979c080948",
       "version_major": 2,
       "version_minor": 0
      },
      "text/plain": [
       "Canvas(toolbar=Toolbar(toolitems=[('Home', 'Reset original view', 'home', 'home'), ('Back', 'Back to previous …"
      ]
     },
     "metadata": {},
     "output_type": "display_data"
    },
    {
     "data": {
      "text/plain": [
       "<matplotlib.lines.Line2D at 0x7fddcffe4130>"
      ]
     },
     "execution_count": 205,
     "metadata": {},
     "output_type": "execute_result"
    }
   ],
   "source": [
    "fig, ax = plt.subplots()\n",
    "ax.plot(kung.weight, kung.height - trace_cube.μ.mean(axis=0), \".\")\n",
    "ax.axhline(0, color=\"black\")"
   ]
  },
  {
   "cell_type": "markdown",
   "metadata": {},
   "source": [
    "## Bonus 3: log log"
   ]
  },
  {
   "cell_type": "code",
   "execution_count": 179,
   "metadata": {},
   "outputs": [
    {
     "name": "stderr",
     "output_type": "stream",
     "text": [
      "/home/jnassar/.local/lib/pyenv/versions/bayes/lib/python3.9/site-packages/pymc3/sampling.py:465: FutureWarning: In an upcoming release, pm.sample will return an `arviz.InferenceData` object instead of a `MultiTrace` by default. You can pass return_inferencedata=True or return_inferencedata=False to be safe and silence this warning.\n",
      "  warnings.warn(\n",
      "Auto-assigning NUTS sampler...\n",
      "Initializing NUTS using jitter+adapt_diag...\n",
      "Multiprocess sampling (4 chains in 4 jobs)\n",
      "NUTS: [σ, β, α]\n"
     ]
    },
    {
     "data": {
      "text/html": [
       "\n",
       "    <div>\n",
       "        <style>\n",
       "            /* Turns off some styling */\n",
       "            progress {\n",
       "                /* gets rid of default border in Firefox and Opera. */\n",
       "                border: none;\n",
       "                /* Needs to be in here for Safari polyfill so background images work as expected. */\n",
       "                background-size: auto;\n",
       "            }\n",
       "            .progress-bar-interrupted, .progress-bar-interrupted::-webkit-progress-bar {\n",
       "                background: #F44336;\n",
       "            }\n",
       "        </style>\n",
       "      <progress value='8000' class='' max='8000' style='width:300px; height:20px; vertical-align: middle;'></progress>\n",
       "      100.00% [8000/8000 00:02<00:00 Sampling 4 chains, 0 divergences]\n",
       "    </div>\n",
       "    "
      ],
      "text/plain": [
       "<IPython.core.display.HTML object>"
      ]
     },
     "metadata": {},
     "output_type": "display_data"
    },
    {
     "name": "stderr",
     "output_type": "stream",
     "text": [
      "Sampling 4 chains for 1_000 tune and 1_000 draw iterations (4_000 + 4_000 draws total) took 2 seconds.\n"
     ]
    }
   ],
   "source": [
    "with pm.Model() as m_log_log:\n",
    "    a = pm.Normal(\"α\", mu=5, sd=5)\n",
    "    b = pm.Normal(\"β\", mu=0, sd=50)\n",
    "    mu = pm.Deterministic(\"μ\", a + b * kung.log_weight_s)\n",
    "    sigma = pm.Uniform(\"σ\", 0, 50)\n",
    "    log_height = pm.Normal(\"log_height\", mu=mu, sd=sigma, observed=kung.log_height)\n",
    "    trace_log_log = pm.sample()"
   ]
  },
  {
   "cell_type": "code",
   "execution_count": 180,
   "metadata": {},
   "outputs": [
    {
     "data": {
      "text/plain": [
       "(4.903628874462566, 0.23588607406840253, 0.053076462365210554)"
      ]
     },
     "execution_count": 180,
     "metadata": {},
     "output_type": "execute_result"
    }
   ],
   "source": [
    "trace_log_log.α.mean(), trace_log_log.β.mean(), trace_log_log.σ.mean()"
   ]
  },
  {
   "cell_type": "code",
   "execution_count": 192,
   "metadata": {},
   "outputs": [
    {
     "data": {
      "application/vnd.jupyter.widget-view+json": {
       "model_id": "1f70ad9ec004434992c7599c62ffb22d",
       "version_major": 2,
       "version_minor": 0
      },
      "text/plain": [
       "Canvas(toolbar=Toolbar(toolitems=[('Home', 'Reset original view', 'home', 'home'), ('Back', 'Back to previous …"
      ]
     },
     "metadata": {},
     "output_type": "display_data"
    },
    {
     "name": "stderr",
     "output_type": "stream",
     "text": [
      "/home/jnassar/.local/lib/pyenv/versions/bayes/lib/python3.9/site-packages/arviz/stats/stats.py:484: FutureWarning: hdi currently interprets 2d data as (draw, shape) but this will change in a future release to (chain, draw) for coherence with other functions\n",
      "  warnings.warn(\n",
      "/home/jnassar/.local/lib/pyenv/versions/bayes/lib/python3.9/site-packages/arviz/stats/stats.py:484: FutureWarning: hdi currently interprets 2d data as (draw, shape) but this will change in a future release to (chain, draw) for coherence with other functions\n",
      "  warnings.warn(\n",
      "/home/jnassar/.local/lib/pyenv/versions/bayes/lib/python3.9/site-packages/arviz/stats/stats.py:484: FutureWarning: hdi currently interprets 2d data as (draw, shape) but this will change in a future release to (chain, draw) for coherence with other functions\n",
      "  warnings.warn(\n"
     ]
    }
   ],
   "source": [
    "height_pred = pm.fast_sample_posterior_predictive(trace_log_log, model=m_log_log)[\n",
    "    \"log_height\"\n",
    "]\n",
    "\n",
    "fig, ax = plt.subplots()\n",
    "ax.loglog(kung.weight, kung.height, \".\")\n",
    "az.plot_hdi(kung.weight, trace_log.μ, ax=ax, color=\"C2\")\n",
    "az.plot_hdi(kung.weight, np.exp(trace_log_log.μ), ax=ax, color=\"black\")\n",
    "az.plot_hdi(kung.weight, np.exp(height_pred), ax=ax)\n",
    "ax.set(xlabel=\"weight\", ylabel=\"height\")\n",
    "fig.tight_layout()"
   ]
  },
  {
   "cell_type": "code",
   "execution_count": 191,
   "metadata": {},
   "outputs": [
    {
     "data": {
      "application/vnd.jupyter.widget-view+json": {
       "model_id": "4f50f29af0ef4c079c71e4a7053a3fcc",
       "version_major": 2,
       "version_minor": 0
      },
      "text/plain": [
       "Canvas(toolbar=Toolbar(toolitems=[('Home', 'Reset original view', 'home', 'home'), ('Back', 'Back to previous …"
      ]
     },
     "metadata": {},
     "output_type": "display_data"
    },
    {
     "name": "stderr",
     "output_type": "stream",
     "text": [
      "/home/jnassar/.local/lib/pyenv/versions/bayes/lib/python3.9/site-packages/arviz/stats/stats.py:484: FutureWarning: hdi currently interprets 2d data as (draw, shape) but this will change in a future release to (chain, draw) for coherence with other functions\n",
      "  warnings.warn(\n",
      "/home/jnassar/.local/lib/pyenv/versions/bayes/lib/python3.9/site-packages/arviz/stats/stats.py:484: FutureWarning: hdi currently interprets 2d data as (draw, shape) but this will change in a future release to (chain, draw) for coherence with other functions\n",
      "  warnings.warn(\n",
      "/home/jnassar/.local/lib/pyenv/versions/bayes/lib/python3.9/site-packages/arviz/stats/stats.py:484: FutureWarning: hdi currently interprets 2d data as (draw, shape) but this will change in a future release to (chain, draw) for coherence with other functions\n",
      "  warnings.warn(\n"
     ]
    }
   ],
   "source": [
    "height_pred = pm.fast_sample_posterior_predictive(trace_log_log, model=m_log_log)[\n",
    "    \"log_height\"\n",
    "]\n",
    "\n",
    "fig, ax = plt.subplots()\n",
    "ax.plot(kung.weight, kung.height, \".\")\n",
    "az.plot_hdi(kung.weight, trace_log.μ, ax=ax, color=\"C2\")\n",
    "az.plot_hdi(kung.weight, np.exp(trace_log_log.μ), ax=ax, color=\"black\")\n",
    "az.plot_hdi(kung.weight, np.exp(height_pred), ax=ax)\n",
    "ax.set(xlabel=\"weight\", ylabel=\"height\")\n",
    "fig.tight_layout()"
   ]
  },
  {
   "cell_type": "code",
   "execution_count": 213,
   "metadata": {},
   "outputs": [
    {
     "data": {
      "application/vnd.jupyter.widget-view+json": {
       "model_id": "fdf6a81d9cc0487f869a0ac8218d01cf",
       "version_major": 2,
       "version_minor": 0
      },
      "text/plain": [
       "Canvas(toolbar=Toolbar(toolitems=[('Home', 'Reset original view', 'home', 'home'), ('Back', 'Back to previous …"
      ]
     },
     "metadata": {},
     "output_type": "display_data"
    },
    {
     "data": {
      "text/plain": [
       "[Text(0.5, 1.0, 'residuals'), Text(0, 0.5, 'height'), Text(0.5, 0, 'weight')]"
      ]
     },
     "execution_count": 213,
     "metadata": {},
     "output_type": "execute_result"
    }
   ],
   "source": [
    "fig, ax = plt.subplots()\n",
    "ax.plot(\n",
    "    kung.weight,\n",
    "    kung.height - np.exp(trace_log_log.μ.mean(axis=0)),\n",
    "    \"+\",\n",
    "    color=\"C3\",\n",
    "    alpha=0.3,\n",
    "    label=\"loglog\",\n",
    ")\n",
    "ax.plot(\n",
    "    kung.weight,\n",
    "    kung.height - trace_log.μ.mean(axis=0),\n",
    "    \"+\",\n",
    "    color=\"black\",\n",
    "    alpha=0.3,\n",
    "    label=\"cubes\",\n",
    ")\n",
    "ax.legend()\n",
    "ax.axhline(0, color=\"black\")\n",
    "ax.set(title=\"residuals\", ylabel=\"height\", xlabel=\"weight\")"
   ]
  },
  {
   "cell_type": "code",
   "execution_count": 204,
   "metadata": {},
   "outputs": [
    {
     "data": {
      "application/vnd.jupyter.widget-view+json": {
       "model_id": "1d541bd4e72b4721b1a4b6089d7a938d",
       "version_major": 2,
       "version_minor": 0
      },
      "text/plain": [
       "Canvas(toolbar=Toolbar(toolitems=[('Home', 'Reset original view', 'home', 'home'), ('Back', 'Back to previous …"
      ]
     },
     "metadata": {},
     "output_type": "display_data"
    },
    {
     "data": {
      "text/plain": [
       "[Text(0.5, 1.0, 'residuals'), Text(0, 0.5, 'height'), Text(0.5, 0, 'weight')]"
      ]
     },
     "execution_count": 204,
     "metadata": {},
     "output_type": "execute_result"
    }
   ],
   "source": [
    "fig, ax = plt.subplots()\n",
    "ax.plot(\n",
    "    kung.weight,\n",
    "    kung.height - np.exp(trace_log_log.μ.mean(axis=0)),\n",
    "    \".\",\n",
    "    color=\"C1\",\n",
    "    alpha=0.3,\n",
    "    label=\"loglog\",\n",
    ")\n",
    "ax.plot(\n",
    "    kung.weight,\n",
    "    kung.height - trace_cube.μ.mean(axis=0),\n",
    "    \".\",\n",
    "    color=\"C2\",\n",
    "    alpha=0.3,\n",
    "    label=\"cube\",\n",
    ")\n",
    "ax.legend()\n",
    "ax.axhline(0, color=\"black\")\n",
    "ax.set(title=\"residuals\", ylabel=\"height\", xlabel=\"weight\")"
   ]
  },
  {
   "cell_type": "code",
   "execution_count": null,
   "metadata": {},
   "outputs": [],
   "source": []
  }
 ],
 "metadata": {
  "kernelspec": {
   "display_name": "Bayesian Stats",
   "language": "python",
   "name": "bayes"
  },
  "language_info": {
   "codemirror_mode": {
    "name": "ipython",
    "version": 3
   },
   "file_extension": ".py",
   "mimetype": "text/x-python",
   "name": "python",
   "nbconvert_exporter": "python",
   "pygments_lexer": "ipython3",
   "version": "3.9.0"
  }
 },
 "nbformat": 4,
 "nbformat_minor": 4
}
