{
 "cells": [
  {
   "cell_type": "code",
   "execution_count": 4,
   "metadata": {},
   "outputs": [],
   "source": [
    "import arviz as az\n",
    "import matplotlib as mpl\n",
    "import matplotlib.pyplot as plt\n",
    "import missingno as mno\n",
    "import numpy as np\n",
    "import pandas as pd\n",
    "import pymc3 as pm\n",
    "import seaborn as sns\n",
    "from causalgraphicalmodels import CausalGraphicalModel\n",
    "from IPython.display import display\n",
    "from patsy import dmatrix\n",
    "from scipy import stats\n",
    "from scipy.interpolate import griddata\n",
    "from theano import shared\n",
    "\n",
    "# az.style.use(\"arviz-darkgrid\")\n",
    "sns.set_theme()\n",
    "az.rcParams[\"stats.hdi_prob\"] = 0.89\n",
    "\n",
    "\n",
    "def standardize(series):\n",
    "    std_series = (series - series.mean()) / series.std()\n",
    "    return std_series\n",
    "\n",
    "\n",
    "def unstandardize(series_std, series):\n",
    "    return series_std * series.std() + series.mean()"
   ]
  },
  {
   "cell_type": "code",
   "execution_count": null,
   "metadata": {},
   "outputs": [],
   "source": []
  }
 ],
 "metadata": {
  "kernelspec": {
   "display_name": "Bayesian Stats",
   "language": "python",
   "name": "bayes"
  },
  "language_info": {
   "codemirror_mode": {
    "name": "ipython",
    "version": 3
   },
   "file_extension": ".py",
   "mimetype": "text/x-python",
   "name": "python",
   "nbconvert_exporter": "python",
   "pygments_lexer": "ipython3",
   "version": "3.9.0"
  }
 },
 "nbformat": 4,
 "nbformat_minor": 4
}
